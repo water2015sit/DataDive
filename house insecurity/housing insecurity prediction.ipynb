{
 "cells": [
  {
   "cell_type": "code",
   "execution_count": 1,
   "id": "2e8c7157-cf37-4c08-adae-1521ab942397",
   "metadata": {},
   "outputs": [],
   "source": [
    "import pandas as pd\n",
    "import numpy as np\n",
    "import matplotlib.pyplot as plt"
   ]
  },
  {
   "cell_type": "code",
   "execution_count": 2,
   "id": "64b40d9a-1a21-4811-ad82-e609457dcfd1",
   "metadata": {},
   "outputs": [],
   "source": [
    "X = pd.read_csv('miami_dade_fl_processed_2017_to_2019_20210916 - miami_dade_fl_processed_2017_to_2019_20210916.csv')"
   ]
  },
  {
   "cell_type": "code",
   "execution_count": 3,
   "id": "1bc2face-5cfd-4242-a97f-f7b4c16cb65a",
   "metadata": {},
   "outputs": [
    {
     "data": {
      "text/html": [
       "<div>\n",
       "<style scoped>\n",
       "    .dataframe tbody tr th:only-of-type {\n",
       "        vertical-align: middle;\n",
       "    }\n",
       "\n",
       "    .dataframe tbody tr th {\n",
       "        vertical-align: top;\n",
       "    }\n",
       "\n",
       "    .dataframe thead th {\n",
       "        text-align: right;\n",
       "    }\n",
       "</style>\n",
       "<table border=\"1\" class=\"dataframe\">\n",
       "  <thead>\n",
       "    <tr style=\"text-align: right;\">\n",
       "      <th></th>\n",
       "      <th>census_tract_GEOID</th>\n",
       "      <th>total-households</th>\n",
       "      <th>total-renter-occupied-households</th>\n",
       "      <th>total-owner-occupied-households</th>\n",
       "      <th>total-owner-occupied-households-mortgage</th>\n",
       "      <th>median-gross-rent</th>\n",
       "      <th>median-household-income</th>\n",
       "      <th>median-property-value</th>\n",
       "      <th>median-monthly-housing-cost</th>\n",
       "      <th>pct-white</th>\n",
       "      <th>...</th>\n",
       "      <th>lien-foreclosure-rate-2019</th>\n",
       "      <th>avg-eviction-rate</th>\n",
       "      <th>ratio-to-mean-foreclosure-rate</th>\n",
       "      <th>ratio-to-mean-eviction-rate</th>\n",
       "      <th>avg-housing-loss-rate</th>\n",
       "      <th>evictions-pct-total-housing-loss</th>\n",
       "      <th>housing-loss-index</th>\n",
       "      <th>county_GEOID</th>\n",
       "      <th>county</th>\n",
       "      <th>state</th>\n",
       "    </tr>\n",
       "  </thead>\n",
       "  <tbody>\n",
       "    <tr>\n",
       "      <th>0</th>\n",
       "      <td>12086000211</td>\n",
       "      <td>931</td>\n",
       "      <td>369</td>\n",
       "      <td>562</td>\n",
       "      <td>352</td>\n",
       "      <td>1592</td>\n",
       "      <td>53533</td>\n",
       "      <td>240400</td>\n",
       "      <td>1728</td>\n",
       "      <td>710</td>\n",
       "      <td>...</td>\n",
       "      <td>0.355872</td>\n",
       "      <td>2.529359</td>\n",
       "      <td>0.650786</td>\n",
       "      <td>1.733086</td>\n",
       "      <td>2.034212</td>\n",
       "      <td>0.636364</td>\n",
       "      <td>1.130385</td>\n",
       "      <td>12086</td>\n",
       "      <td>Miami-Dade County</td>\n",
       "      <td>Florida</td>\n",
       "    </tr>\n",
       "    <tr>\n",
       "      <th>1</th>\n",
       "      <td>12086000212</td>\n",
       "      <td>1668</td>\n",
       "      <td>1373</td>\n",
       "      <td>295</td>\n",
       "      <td>201</td>\n",
       "      <td>1109</td>\n",
       "      <td>33958</td>\n",
       "      <td>179900</td>\n",
       "      <td>1389</td>\n",
       "      <td>887</td>\n",
       "      <td>...</td>\n",
       "      <td>1.016949</td>\n",
       "      <td>3.641661</td>\n",
       "      <td>1.068455</td>\n",
       "      <td>2.495222</td>\n",
       "      <td>3.494282</td>\n",
       "      <td>0.909091</td>\n",
       "      <td>1.941727</td>\n",
       "      <td>12086</td>\n",
       "      <td>Miami-Dade County</td>\n",
       "      <td>Florida</td>\n",
       "    </tr>\n",
       "    <tr>\n",
       "      <th>2</th>\n",
       "      <td>12086000213</td>\n",
       "      <td>1379</td>\n",
       "      <td>694</td>\n",
       "      <td>685</td>\n",
       "      <td>356</td>\n",
       "      <td>1291</td>\n",
       "      <td>40250</td>\n",
       "      <td>254900</td>\n",
       "      <td>1701</td>\n",
       "      <td>696</td>\n",
       "      <td>...</td>\n",
       "      <td>0.437956</td>\n",
       "      <td>1.585014</td>\n",
       "      <td>1.367382</td>\n",
       "      <td>1.086033</td>\n",
       "      <td>2.126984</td>\n",
       "      <td>0.492537</td>\n",
       "      <td>1.181937</td>\n",
       "      <td>12086</td>\n",
       "      <td>Miami-Dade County</td>\n",
       "      <td>Florida</td>\n",
       "    </tr>\n",
       "    <tr>\n",
       "      <th>3</th>\n",
       "      <td>12086000214</td>\n",
       "      <td>2238</td>\n",
       "      <td>1209</td>\n",
       "      <td>1029</td>\n",
       "      <td>649</td>\n",
       "      <td>1135</td>\n",
       "      <td>39962</td>\n",
       "      <td>147800</td>\n",
       "      <td>1299</td>\n",
       "      <td>1362</td>\n",
       "      <td>...</td>\n",
       "      <td>0.194363</td>\n",
       "      <td>1.681831</td>\n",
       "      <td>0.750059</td>\n",
       "      <td>1.152370</td>\n",
       "      <td>1.704342</td>\n",
       "      <td>0.642105</td>\n",
       "      <td>0.947080</td>\n",
       "      <td>12086</td>\n",
       "      <td>Miami-Dade County</td>\n",
       "      <td>Florida</td>\n",
       "    </tr>\n",
       "    <tr>\n",
       "      <th>4</th>\n",
       "      <td>12086000128</td>\n",
       "      <td>1364</td>\n",
       "      <td>726</td>\n",
       "      <td>638</td>\n",
       "      <td>396</td>\n",
       "      <td>1349</td>\n",
       "      <td>63889</td>\n",
       "      <td>205900</td>\n",
       "      <td>1610</td>\n",
       "      <td>1240</td>\n",
       "      <td>...</td>\n",
       "      <td>0.156740</td>\n",
       "      <td>0.459137</td>\n",
       "      <td>0.831560</td>\n",
       "      <td>0.314595</td>\n",
       "      <td>0.980392</td>\n",
       "      <td>0.303030</td>\n",
       "      <td>0.544791</td>\n",
       "      <td>12086</td>\n",
       "      <td>Miami-Dade County</td>\n",
       "      <td>Florida</td>\n",
       "    </tr>\n",
       "  </tbody>\n",
       "</table>\n",
       "<p>5 rows × 73 columns</p>\n",
       "</div>"
      ],
      "text/plain": [
       "   census_tract_GEOID  total-households  total-renter-occupied-households  \\\n",
       "0         12086000211               931                               369   \n",
       "1         12086000212              1668                              1373   \n",
       "2         12086000213              1379                               694   \n",
       "3         12086000214              2238                              1209   \n",
       "4         12086000128              1364                               726   \n",
       "\n",
       "   total-owner-occupied-households  total-owner-occupied-households-mortgage  \\\n",
       "0                              562                                       352   \n",
       "1                              295                                       201   \n",
       "2                              685                                       356   \n",
       "3                             1029                                       649   \n",
       "4                              638                                       396   \n",
       "\n",
       "   median-gross-rent  median-household-income  median-property-value  \\\n",
       "0               1592                    53533                 240400   \n",
       "1               1109                    33958                 179900   \n",
       "2               1291                    40250                 254900   \n",
       "3               1135                    39962                 147800   \n",
       "4               1349                    63889                 205900   \n",
       "\n",
       "   median-monthly-housing-cost  pct-white  ...  lien-foreclosure-rate-2019  \\\n",
       "0                         1728        710  ...                    0.355872   \n",
       "1                         1389        887  ...                    1.016949   \n",
       "2                         1701        696  ...                    0.437956   \n",
       "3                         1299       1362  ...                    0.194363   \n",
       "4                         1610       1240  ...                    0.156740   \n",
       "\n",
       "   avg-eviction-rate  ratio-to-mean-foreclosure-rate  \\\n",
       "0           2.529359                        0.650786   \n",
       "1           3.641661                        1.068455   \n",
       "2           1.585014                        1.367382   \n",
       "3           1.681831                        0.750059   \n",
       "4           0.459137                        0.831560   \n",
       "\n",
       "   ratio-to-mean-eviction-rate  avg-housing-loss-rate  \\\n",
       "0                     1.733086               2.034212   \n",
       "1                     2.495222               3.494282   \n",
       "2                     1.086033               2.126984   \n",
       "3                     1.152370               1.704342   \n",
       "4                     0.314595               0.980392   \n",
       "\n",
       "   evictions-pct-total-housing-loss  housing-loss-index  county_GEOID  \\\n",
       "0                          0.636364            1.130385         12086   \n",
       "1                          0.909091            1.941727         12086   \n",
       "2                          0.492537            1.181937         12086   \n",
       "3                          0.642105            0.947080         12086   \n",
       "4                          0.303030            0.544791         12086   \n",
       "\n",
       "              county    state  \n",
       "0  Miami-Dade County  Florida  \n",
       "1  Miami-Dade County  Florida  \n",
       "2  Miami-Dade County  Florida  \n",
       "3  Miami-Dade County  Florida  \n",
       "4  Miami-Dade County  Florida  \n",
       "\n",
       "[5 rows x 73 columns]"
      ]
     },
     "execution_count": 3,
     "metadata": {},
     "output_type": "execute_result"
    }
   ],
   "source": [
    "X.head()"
   ]
  },
  {
   "cell_type": "code",
   "execution_count": 4,
   "id": "343e5a22-3dad-46db-998d-c62b19251ef7",
   "metadata": {},
   "outputs": [
    {
     "data": {
      "text/plain": [
       "Index(['census_tract_GEOID', 'total-households',\n",
       "       'total-renter-occupied-households', 'total-owner-occupied-households',\n",
       "       'total-owner-occupied-households-mortgage', 'median-gross-rent',\n",
       "       'median-household-income', 'median-property-value',\n",
       "       'median-monthly-housing-cost', 'pct-white', 'pct-af-am', 'pct-hispanic',\n",
       "       'pct-am-indian', 'pct-asian', 'pct-nh-pi', 'pct-multiple', 'pct-other',\n",
       "       'pct-below-poverty-level', 'households-children',\n",
       "       'single-parent-household', 'older-adult-alone', 'level-of-education',\n",
       "       'immigrant-status', 'english-fluency', 'drive-to-work',\n",
       "       'public-transport-to-work', 'vacant-properties', 'live-in-mobile-home',\n",
       "       'pct-renter-occupied', 'pct-owner-occupied',\n",
       "       'pct-owner-occupied-mortgage', 'pct-owner-occupied-without-mortgage',\n",
       "       'median-house-age', 'pct-non-white', 'pct-without-health-insurance',\n",
       "       'total-evictions', 'avg-evictions', 'total-foreclosure-sales',\n",
       "       'avg-foreclosure-sales', 'total-lien-foreclosures',\n",
       "       'avg-lien-foreclosures', 'total-evictions-2017',\n",
       "       'eviction-filings-2017', 'eviction-rate-2017', 'total-evictions-2018',\n",
       "       'eviction-filings-2018', 'eviction-rate-2018', 'total-evictions-2019',\n",
       "       'eviction-filings-2019', 'eviction-rate-2019', 'foreclosure-sales-2017',\n",
       "       'foreclosure-sales-2018', 'foreclosure-sales-2019',\n",
       "       'lien-foreclosures-2017', 'lien-foreclosures-2018',\n",
       "       'lien-foreclosures-2019', 'avg-foreclosure-rate',\n",
       "       'foreclosure-rate-2017', 'foreclosure-rate-2018',\n",
       "       'foreclosure-rate-2019', 'avg-lien-foreclosure-rate',\n",
       "       'lien-foreclosure-rate-2017', 'lien-foreclosure-rate-2018',\n",
       "       'lien-foreclosure-rate-2019', 'avg-eviction-rate',\n",
       "       'ratio-to-mean-foreclosure-rate', 'ratio-to-mean-eviction-rate',\n",
       "       'avg-housing-loss-rate', 'evictions-pct-total-housing-loss',\n",
       "       'housing-loss-index', 'county_GEOID', 'county', 'state'],\n",
       "      dtype='object')"
      ]
     },
     "execution_count": 4,
     "metadata": {},
     "output_type": "execute_result"
    }
   ],
   "source": [
    "X.columns"
   ]
  },
  {
   "cell_type": "code",
   "execution_count": 5,
   "id": "d01faf62-dc92-454e-9651-039559c5cc20",
   "metadata": {},
   "outputs": [],
   "source": [
    "X = X.dropna()"
   ]
  },
  {
   "cell_type": "code",
   "execution_count": 6,
   "id": "9e4f0ffd-d771-45e9-99df-d2a390508666",
   "metadata": {},
   "outputs": [],
   "source": [
    "features = ['total-households', 'single-parent-household', 'level-of-education', 'drive-to-work']"
   ]
  },
  {
   "cell_type": "code",
   "execution_count": 7,
   "id": "1ccf571f-ccd0-41bf-a473-499a7a322f70",
   "metadata": {},
   "outputs": [
    {
     "name": "stdout",
     "output_type": "stream",
     "text": [
      "0      1.130385\n",
      "1      1.941727\n",
      "2      1.181937\n",
      "3      0.947080\n",
      "4      0.544791\n",
      "         ...   \n",
      "514    1.235903\n",
      "515    1.303607\n",
      "516    1.080502\n",
      "517    1.039002\n",
      "518    1.730675\n",
      "Name: housing-loss-index, Length: 404, dtype: float64\n"
     ]
    }
   ],
   "source": [
    "y = X['housing-loss-index']\n",
    "print(y)"
   ]
  },
  {
   "cell_type": "code",
   "execution_count": 8,
   "id": "b7e6c86b-10a0-4f7a-9b92-94ea9e36fee4",
   "metadata": {},
   "outputs": [
    {
     "data": {
      "text/plain": [
       "0    1.130385\n",
       "1    1.941727\n",
       "2    1.181937\n",
       "3    0.947080\n",
       "4    0.544791\n",
       "Name: housing-loss-index, dtype: float64"
      ]
     },
     "execution_count": 8,
     "metadata": {},
     "output_type": "execute_result"
    }
   ],
   "source": [
    "y.head()"
   ]
  },
  {
   "cell_type": "code",
   "execution_count": 9,
   "id": "de68c39e-d019-4906-846f-7e23577a5e12",
   "metadata": {},
   "outputs": [],
   "source": [
    "X_train = X[features]"
   ]
  },
  {
   "cell_type": "code",
   "execution_count": 10,
   "id": "d74c50ef-33db-48e9-9071-b58806cc25a7",
   "metadata": {},
   "outputs": [],
   "source": [
    "from sklearn.model_selection import train_test_split\n",
    "X_train, X_valid, y_train, y_valid = train_test_split(X_train, y, train_size=0.8, test_size=0.2, random_state=0)"
   ]
  },
  {
   "cell_type": "code",
   "execution_count": 11,
   "id": "154278f1-4054-42f7-8a33-8ba48c466910",
   "metadata": {},
   "outputs": [
    {
     "data": {
      "text/html": [
       "<div>\n",
       "<style scoped>\n",
       "    .dataframe tbody tr th:only-of-type {\n",
       "        vertical-align: middle;\n",
       "    }\n",
       "\n",
       "    .dataframe tbody tr th {\n",
       "        vertical-align: top;\n",
       "    }\n",
       "\n",
       "    .dataframe thead th {\n",
       "        text-align: right;\n",
       "    }\n",
       "</style>\n",
       "<table border=\"1\" class=\"dataframe\">\n",
       "  <thead>\n",
       "    <tr style=\"text-align: right;\">\n",
       "      <th></th>\n",
       "      <th>total-households</th>\n",
       "      <th>single-parent-household</th>\n",
       "      <th>level-of-education</th>\n",
       "      <th>drive-to-work</th>\n",
       "    </tr>\n",
       "  </thead>\n",
       "  <tbody>\n",
       "    <tr>\n",
       "      <th>508</th>\n",
       "      <td>1743</td>\n",
       "      <td>57</td>\n",
       "      <td>118</td>\n",
       "      <td>1211</td>\n",
       "    </tr>\n",
       "    <tr>\n",
       "      <th>329</th>\n",
       "      <td>3327</td>\n",
       "      <td>105</td>\n",
       "      <td>800</td>\n",
       "      <td>3908</td>\n",
       "    </tr>\n",
       "    <tr>\n",
       "      <th>415</th>\n",
       "      <td>1281</td>\n",
       "      <td>7</td>\n",
       "      <td>183</td>\n",
       "      <td>1593</td>\n",
       "    </tr>\n",
       "    <tr>\n",
       "      <th>87</th>\n",
       "      <td>1355</td>\n",
       "      <td>57</td>\n",
       "      <td>318</td>\n",
       "      <td>1261</td>\n",
       "    </tr>\n",
       "    <tr>\n",
       "      <th>75</th>\n",
       "      <td>1707</td>\n",
       "      <td>32</td>\n",
       "      <td>1227</td>\n",
       "      <td>2152</td>\n",
       "    </tr>\n",
       "  </tbody>\n",
       "</table>\n",
       "</div>"
      ],
      "text/plain": [
       "     total-households  single-parent-household  level-of-education  \\\n",
       "508              1743                       57                 118   \n",
       "329              3327                      105                 800   \n",
       "415              1281                        7                 183   \n",
       "87               1355                       57                 318   \n",
       "75               1707                       32                1227   \n",
       "\n",
       "     drive-to-work  \n",
       "508           1211  \n",
       "329           3908  \n",
       "415           1593  \n",
       "87            1261  \n",
       "75            2152  "
      ]
     },
     "execution_count": 11,
     "metadata": {},
     "output_type": "execute_result"
    }
   ],
   "source": [
    "X_train.head()"
   ]
  },
  {
   "cell_type": "code",
   "execution_count": 12,
   "id": "94796cbf-6c79-49c6-8360-d5034b31b218",
   "metadata": {},
   "outputs": [
    {
     "data": {
      "text/plain": [
       "0      False\n",
       "1      False\n",
       "2      False\n",
       "3      False\n",
       "4      False\n",
       "       ...  \n",
       "514    False\n",
       "515    False\n",
       "516    False\n",
       "517    False\n",
       "518    False\n",
       "Name: housing-loss-index, Length: 404, dtype: bool"
      ]
     },
     "execution_count": 12,
     "metadata": {},
     "output_type": "execute_result"
    }
   ],
   "source": [
    "np.isnan(y)"
   ]
  },
  {
   "cell_type": "code",
   "execution_count": 18,
   "id": "73101226-c24e-4541-b726-1e9ab4aeb545",
   "metadata": {},
   "outputs": [],
   "source": [
    "from sklearn.ensemble import RandomForestRegressor\n",
    "\n",
    "model_1 = RandomForestRegressor(random_state=0)\n",
    "model_2 = RandomForestRegressor(50, random_state = 0)\n",
    "model_3 = RandomForestRegressor(100, max_depth=7, random_state=0)\n",
    "models = [model_1, model_2, model_3]"
   ]
  },
  {
   "cell_type": "code",
   "execution_count": 19,
   "id": "df593b09-3109-4e9f-b82b-b674e230b22b",
   "metadata": {},
   "outputs": [
    {
     "name": "stderr",
     "output_type": "stream",
     "text": [
      "/srv/conda/envs/notebook/lib/python3.7/site-packages/sklearn/ensemble/forest.py:245: FutureWarning: The default value of n_estimators will change from 10 in version 0.20 to 100 in 0.22.\n",
      "  \"10 in version 0.20 to 100 in 0.22.\", FutureWarning)\n",
      "/srv/conda/envs/notebook/lib/python3.7/site-packages/sklearn/ensemble/base.py:158: DeprecationWarning: `np.int` is a deprecated alias for the builtin `int`. To silence this warning, use `int` by itself. Doing this will not modify any behavior and is safe. When replacing `np.int`, you may wish to use e.g. `np.int64` or `np.int32` to specify the precision. If you wish to review your current use, check the release note link for additional information.\n",
      "Deprecated in NumPy 1.20; for more details and guidance: https://numpy.org/devdocs/release/1.20.0-notes.html#deprecations\n",
      "  dtype=np.int)\n",
      "/srv/conda/envs/notebook/lib/python3.7/site-packages/sklearn/ensemble/base.py:158: DeprecationWarning: `np.int` is a deprecated alias for the builtin `int`. To silence this warning, use `int` by itself. Doing this will not modify any behavior and is safe. When replacing `np.int`, you may wish to use e.g. `np.int64` or `np.int32` to specify the precision. If you wish to review your current use, check the release note link for additional information.\n",
      "Deprecated in NumPy 1.20; for more details and guidance: https://numpy.org/devdocs/release/1.20.0-notes.html#deprecations\n",
      "  dtype=np.int)\n"
     ]
    },
    {
     "name": "stdout",
     "output_type": "stream",
     "text": [
      "0.442903779594753\n",
      "0.44351787214752136\n",
      "0.45273158314309336\n"
     ]
    },
    {
     "name": "stderr",
     "output_type": "stream",
     "text": [
      "/srv/conda/envs/notebook/lib/python3.7/site-packages/sklearn/ensemble/base.py:158: DeprecationWarning: `np.int` is a deprecated alias for the builtin `int`. To silence this warning, use `int` by itself. Doing this will not modify any behavior and is safe. When replacing `np.int`, you may wish to use e.g. `np.int64` or `np.int32` to specify the precision. If you wish to review your current use, check the release note link for additional information.\n",
      "Deprecated in NumPy 1.20; for more details and guidance: https://numpy.org/devdocs/release/1.20.0-notes.html#deprecations\n",
      "  dtype=np.int)\n"
     ]
    }
   ],
   "source": [
    "from sklearn.metrics import mean_absolute_error\n",
    "\n",
    "def score_model(model, X_t=X_train, X_v=X_valid, y_t=y_train, y_v=y_valid):\n",
    "    model.fit(X_t, y_t)\n",
    "    preds = model.predict(X_v)\n",
    "    return mean_absolute_error(y_v, preds)\n",
    "   \n",
    "for i in [0, 1, 2]:\n",
    "    print(score_model(models[i], X_train, X_valid, y_train, y_valid))\n",
    "    "
   ]
  },
  {
   "cell_type": "code",
   "execution_count": null,
   "id": "ab73a474-eb4d-4d13-b780-9f1dba9419cd",
   "metadata": {},
   "outputs": [],
   "source": []
  }
 ],
 "metadata": {
  "kernelspec": {
   "display_name": "Python 3",
   "language": "python",
   "name": "python3"
  },
  "language_info": {
   "codemirror_mode": {
    "name": "ipython",
    "version": 3
   },
   "file_extension": ".py",
   "mimetype": "text/x-python",
   "name": "python",
   "nbconvert_exporter": "python",
   "pygments_lexer": "ipython3",
   "version": "3.7.8"
  }
 },
 "nbformat": 4,
 "nbformat_minor": 5
}
